{
 "cells": [
  {
   "cell_type": "markdown",
   "metadata": {},
   "source": [
    "<h1>Hello OCC World</h1>\n",
    "<p>This notebook is used for testing an Open Casacade Notebook on Binderhub. The test script creates to cylinders in different colors and renders them using the jupyter renderer.</p>"
   ]
  },
  {
   "cell_type": "code",
   "execution_count": 16,
   "metadata": {},
   "outputs": [
    {
     "name": "stdout",
     "output_type": "stream",
     "text": [
      "Running System:\t 3.8.5 (default, Sep  3 2020, 21:29:08) [MSC v.1916 64 bit (AMD64)]\n"
     ]
    },
    {
     "data": {
      "application/vnd.jupyter.widget-view+json": {
       "model_id": "124e45b03b614a2291b9751d9df2871e",
       "version_major": 2,
       "version_minor": 0
      },
      "text/plain": [
       "HBox(children=(VBox(children=(HBox(children=(Checkbox(value=True, description='Axes', layout=Layout(height='au…"
      ]
     },
     "metadata": {},
     "output_type": "display_data"
    }
   ],
   "source": [
    "import sys\n",
    "print(\"Running System:\\t\", sys.version)\n",
    "\n",
    "import numpy as np\n",
    "\n",
    "from OCC.Display.WebGl.jupyter_renderer import JupyterRenderer\n",
    "from OCC.Core.BRepPrimAPI import BRepPrimAPI_MakeBox, BRepPrimAPI_MakeSphere, BRepPrimAPI_MakeCylinder\n",
    "from OCC.Core.gp import gp_Pnt, gp_Vec, gp_Trsf\n",
    "from OCC.Core.BRepBuilderAPI import BRepBuilderAPI_Transform\n",
    "\n",
    "#help1=help(OCC.Core.BRepBuilderAPI)\n",
    "#print(help1)\n",
    "def translate_shp(shp, vec, copy=False):\n",
    "    trns = gp_Trsf()\n",
    "    trns.SetTranslation(vec)\n",
    "    brep_trns = BRepBuilderAPI_Transform(shp, trns, copy)\n",
    "    brep_trns.Build()\n",
    "    return brep_trns.Shape()\n",
    "\n",
    "\n",
    "my_renderer = JupyterRenderer()\n",
    "box_shape = BRepPrimAPI_MakeBox(10, 20, 30).Shape()\n",
    "c1 = BRepPrimAPI_MakeCylinder(10, 30).Shape()\n",
    "\n",
    "vertices = [gp_Pnt(5, 10, 40), gp_Pnt(10, -4, -10)]\n",
    "my_renderer.DisplayShape(vertices)\n",
    "cyan=\"#2EFEF7\"\n",
    "green=\"#abdda4\"\n",
    "c2 = BRepPrimAPI_MakeCylinder(5, 50).Shape()\n",
    "c2 = translate_shp(c2, gp_Vec(10,10,10))\n",
    "\n",
    "my_renderer.DisplayShape(c1, render_edges=True, topo_level=\"Face\", shape_color=cyan, update=False)\n",
    "my_renderer.DisplayShape(c2, render_edges=True, topo_level=\"Face\", shape_color=green, update=True)"
   ]
  },
  {
   "cell_type": "code",
   "execution_count": 1,
   "metadata": {},
   "outputs": [
    {
     "name": "stderr",
     "output_type": "stream",
     "text": [
      "INFO: Successfully saved requirements file in C:\\Users\\johan\\OneDrive\\Desktop\\BinderTest\\requirements.txt\n"
     ]
    }
   ],
   "source": [
    "\n",
    "#!pipreqs C:\\Users\\johan\\OneDrive\\Desktop\\BinderTest --force"
   ]
  }
 ],
 "metadata": {
  "kernelspec": {
   "display_name": "Python 3",
   "language": "python",
   "name": "python3"
  },
  "language_info": {
   "codemirror_mode": {
    "name": "ipython",
    "version": 3
   },
   "file_extension": ".py",
   "mimetype": "text/x-python",
   "name": "python",
   "nbconvert_exporter": "python",
   "pygments_lexer": "ipython3",
   "version": "3.8.5"
  }
 },
 "nbformat": 4,
 "nbformat_minor": 4
}
